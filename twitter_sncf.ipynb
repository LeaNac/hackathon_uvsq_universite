{
 "cells": [
  {
   "cell_type": "markdown",
   "source": [
    "# Corrélation entre le taux de ponctualité fourni par la SNCF et les Tweets"
   ],
   "metadata": {
    "collapsed": false
   }
  },
  {
   "cell_type": "code",
   "execution_count": null,
   "outputs": [],
   "source": [
    "import tweepy\n",
    "import re as regex\n",
    "import pandas as pd\n",
    "from datetime import datetime"
   ],
   "metadata": {
    "collapsed": false
   }
  },
  {
   "cell_type": "markdown",
   "source": [
    "### Définir la ligne de transilien à analyser"
   ],
   "metadata": {
    "collapsed": false
   }
  },
  {
   "cell_type": "code",
   "execution_count": null,
   "outputs": [],
   "source": [
    "transilien_name = 'rer B'"
   ],
   "metadata": {
    "collapsed": false
   }
  },
  {
   "cell_type": "markdown",
   "source": [
    "### Définir la période pendant laquelle les données seront analysées"
   ],
   "metadata": {
    "collapsed": false
   }
  },
  {
   "cell_type": "code",
   "execution_count": null,
   "outputs": [],
   "source": [
    "start_time = datetime(2022, 10, 1, 00, 00, 00)\n",
    "end_time = datetime(2022, 11, 1, 00, 00, 00)\n",
    "\n",
    "print(f\"{start_time=}\")\n",
    "print(f\"{end_time=}\")"
   ],
   "metadata": {
    "collapsed": false
   }
  },
  {
   "cell_type": "markdown",
   "source": [
    "## Extraire le taux de ponctualité des données SNCF"
   ],
   "metadata": {
    "collapsed": false
   }
  },
  {
   "cell_type": "code",
   "execution_count": null,
   "outputs": [],
   "source": [
    "ponctualite_mensuelle_transilien_df = pd.read_csv(\"files/ponctualite-mensuelle-transilien.csv\", sep=';')\n",
    "ponctualite_mensuelle_transilien_df.head()"
   ],
   "metadata": {
    "collapsed": false
   }
  },
  {
   "cell_type": "code",
   "execution_count": null,
   "outputs": [],
   "source": [
    "taux_ponctualite_transilien = ponctualite_mensuelle_transilien_df[ponctualite_mensuelle_transilien_df[\"Nom de la ligne\"].str.lower() == transilien_name.lower()]\n",
    "taux_ponctualite_transilien"
   ],
   "metadata": {
    "collapsed": false
   }
  },
  {
   "cell_type": "code",
   "execution_count": null,
   "outputs": [],
   "source": [
    "filter_by_month_df = taux_ponctualite_transilien[taux_ponctualite_transilien.Date == f'{start_time.year}-{start_time.month}']\n",
    "\n",
    "filter_by_month_df"
   ],
   "metadata": {
    "collapsed": false
   }
  },
  {
   "cell_type": "code",
   "execution_count": null,
   "outputs": [],
   "source": [
    "if filter_by_month_df.empty:\n",
    "    print(\"WARNING: you should shows an other date\")"
   ],
   "metadata": {
    "collapsed": false
   }
  },
  {
   "cell_type": "code",
   "execution_count": null,
   "outputs": [],
   "source": [
    "filter_by_month_df[\"Taux de ponctualité\"]"
   ],
   "metadata": {
    "collapsed": false
   }
  },
  {
   "cell_type": "markdown",
   "source": [
    "## Collecter et analyser les données Twitter"
   ],
   "metadata": {
    "collapsed": false
   }
  },
  {
   "cell_type": "markdown",
   "source": [
    "### Connection au [site développeur de Twitter](https://developer.twitter.com/en) afin d'obtenir des tokens"
   ],
   "metadata": {
    "collapsed": false
   }
  },
  {
   "cell_type": "code",
   "execution_count": null,
   "outputs": [],
   "source": [
    "TWITTER_BEARER_TOKEN = 'AAAAAAAAAAAAAAAAAAAAAOkWlQEAAAAAf8qKdgherDuI1drlvoJIYjF1wsU%3DVtR78wTC9oFMEPbYp3ArbhH3rBe3vk21OwdtvOWrtnBixoA7Wh'\n",
    "TWITTER_CONSUMER_KEY = 'JanEaDdu5pa4WjgIugVJ8YZV5'\n",
    "TWITTER_CONSUMER_SECRET = 'it0MnrfuCrZF0ydsPfjSlMPJx2VDlJRcLslL1TND6LdAsV2sBb'"
   ],
   "metadata": {
    "collapsed": false
   }
  },
  {
   "cell_type": "code",
   "execution_count": null,
   "outputs": [],
   "source": [
    "# define tweepy client\n",
    "client = tweepy.Client(bearer_token=TWITTER_BEARER_TOKEN,\n",
    "                       consumer_key=TWITTER_CONSUMER_KEY,\n",
    "                       consumer_secret=TWITTER_CONSUMER_SECRET,\n",
    "                       wait_on_rate_limit=True)"
   ],
   "metadata": {
    "collapsed": false
   }
  },
  {
   "cell_type": "code",
   "execution_count": null,
   "outputs": [],
   "source": [
    "transilien_username = transilien_name.replace(' ', '')\n",
    "\n",
    "transilien_information = client.get_user(username=transilien_username)\n",
    "print(transilien_information.data.id)"
   ],
   "metadata": {
    "collapsed": false
   }
  },
  {
   "cell_type": "code",
   "execution_count": null,
   "outputs": [],
   "source": [
    "start_time = datetime(2022, 10, 1, 00, 00, 00)\n",
    "end_time = datetime(2023, 1, 1, 00, 00, 00)\n",
    "\n",
    "print(f\"{start_time=}\")\n",
    "print(f\"{end_time=}\")"
   ],
   "metadata": {
    "collapsed": false
   }
  },
  {
   "cell_type": "code",
   "execution_count": null,
   "outputs": [],
   "source": [
    "transilien_id = transilien_information.data.id\n",
    "\n",
    "# get all tweets of a user during a period\n",
    "tweets = tweepy.Paginator(\n",
    "        client.get_users_tweets,\n",
    "        id=transilien_id,\n",
    "        tweet_fields=[\n",
    "            'id',\n",
    "            'text',\n",
    "            'author_id',\n",
    "            'conversation_id',\n",
    "            'created_at',\n",
    "            'lang',\n",
    "            'referenced_tweets',\n",
    "            'public_metrics',\n",
    "        ],\n",
    "        start_time=start_time,\n",
    "        end_time=end_time,\n",
    "        exclude=\"replies\",\n",
    "    ).flatten(limit=1000)"
   ],
   "metadata": {
    "collapsed": false
   }
  },
  {
   "cell_type": "markdown",
   "source": [
    "### Trouver une méthode pour compter le nombre d'incidents"
   ],
   "metadata": {
    "collapsed": false
   }
  },
  {
   "cell_type": "code",
   "execution_count": null,
   "outputs": [],
   "source": [
    "number_incidents = 0\n",
    "\n",
    "for tweet in tweets:\n",
    "    regex_result = regex.search(\"(Fin\\sd['’])|(L')(incident)(\\sest\\sterminé)\", tweet.text)\n",
    "    if regex_result is not None:\n",
    "        number_incidents += 1\n",
    "\n",
    "print(number_incidents)"
   ],
   "metadata": {
    "collapsed": false
   }
  },
  {
   "cell_type": "markdown",
   "source": [
    "## Interpréter les données GTFS afin d'obtenir le nombre de trains impactés par les perturbations"
   ],
   "metadata": {
    "collapsed": false
   }
  },
  {
   "cell_type": "markdown",
   "source": [
    "### Charger les données depuis les fichiers gtfs"
   ],
   "metadata": {
    "collapsed": false
   }
  },
  {
   "cell_type": "code",
   "execution_count": null,
   "outputs": [],
   "source": [
    "stop_times = pd.read_csv('./files/transilien-gtfs/stop_times.txt', sep=\",\")\n",
    "stop_times.head()"
   ],
   "metadata": {
    "collapsed": false
   }
  },
  {
   "cell_type": "code",
   "execution_count": null,
   "outputs": [],
   "source": [
    "stops = pd.read_csv('./files/transilien-gtfs/stops.txt', sep=\",\")\n",
    "stops.head()"
   ],
   "metadata": {
    "collapsed": false
   }
  },
  {
   "cell_type": "code",
   "execution_count": null,
   "outputs": [],
   "source": [
    "trips=pd.read_csv('./files/transilien-gtfs/trips.txt', sep=\",\")\n",
    "trips.head()"
   ],
   "metadata": {
    "collapsed": false
   }
  },
  {
   "cell_type": "code",
   "execution_count": null,
   "outputs": [],
   "source": [
    "routes = pd.read_csv('./files/transilien-gtfs/routes.txt', sep=\",\")\n",
    "routes.head()"
   ],
   "metadata": {
    "collapsed": false
   }
  },
  {
   "cell_type": "markdown",
   "source": [
    "### Merger plusieurs Dataframe pour obtenir les données finales"
   ],
   "metadata": {
    "collapsed": false
   }
  },
  {
   "cell_type": "code",
   "execution_count": null,
   "outputs": [],
   "source": [
    "trips_stops = pd.merge(stop_times, trips, on='trip_id', how='outer')\n",
    "trips_stops.head()"
   ],
   "metadata": {
    "collapsed": false
   }
  },
  {
   "cell_type": "code",
   "execution_count": null,
   "outputs": [],
   "source": [
    "routes_trips_stops = pd.merge(routes, trips_stops, on='route_id', how='outer')\n",
    "routes_trips_stops.head()"
   ],
   "metadata": {
    "collapsed": false
   }
  },
  {
   "cell_type": "markdown",
   "source": [
    "### Filtrer le Dataframe par le transilien que nous analysons"
   ],
   "metadata": {
    "collapsed": false
   }
  },
  {
   "cell_type": "code",
   "execution_count": null,
   "outputs": [],
   "source": [
    "transilien_shortname = transilien_name.split(' ')[1]\n",
    "\n",
    "only_transilien_df = routes_trips_stops[routes_trips_stops[\"route_short_name\"] == transilien_shortname]\n",
    "only_transilien_df"
   ],
   "metadata": {
    "collapsed": false
   }
  },
  {
   "cell_type": "markdown",
   "source": [
    "### Filtrer les données pour ne garder que les trains"
   ],
   "metadata": {
    "collapsed": false
   }
  },
  {
   "cell_type": "code",
   "execution_count": null,
   "outputs": [],
   "source": [
    "def find_routes_types(df, filter=None):\n",
    "    filter_df = None\n",
    "\n",
    "    display(df.groupby([\"route_type\"])[\"route_type\"].count())\n",
    "    if filter is not None:\n",
    "        filter_df = df[df[\"route_type\"] == filter]\n",
    "        display(filter_df)\n",
    "\n",
    "    return filter_df"
   ],
   "metadata": {
    "collapsed": false
   }
  },
  {
   "cell_type": "code",
   "execution_count": null,
   "outputs": [],
   "source": [
    "only_transilien_df.groupby([\"route_type\"])[\"route_type\"].count()\n",
    "filter_df = find_routes_types(only_transilien_df, 2)"
   ],
   "metadata": {
    "collapsed": false
   }
  },
  {
   "cell_type": "markdown",
   "source": [
    "### Simplifier la donnée en ne gardant que ce qui est réellement intéressant"
   ],
   "metadata": {
    "collapsed": false
   }
  },
  {
   "cell_type": "code",
   "execution_count": null,
   "outputs": [],
   "source": [
    "simple_df = filter_df[[\"stop_id\",\"trip_id\", \"arrival_time\", \"departure_time\", \"stop_sequence\", \"pickup_type\", \"drop_off_type\", \"direction_id\"]]"
   ],
   "metadata": {
    "collapsed": false
   }
  },
  {
   "cell_type": "markdown",
   "source": [
    "### Filtrer pour ne garder que le premier train d'une séquence et obtenir le nombre total de trains sur une journée"
   ],
   "metadata": {
    "collapsed": false
   }
  },
  {
   "cell_type": "code",
   "execution_count": null,
   "outputs": [],
   "source": [
    "only_departure_stop = simple_df[filter_df[\"stop_sequence\"].isin([1])]\n",
    "only_departure_stop[\"trip_id\"].unique()"
   ],
   "metadata": {
    "collapsed": false
   }
  }
 ],
 "metadata": {
  "kernelspec": {
   "display_name": "Python 3",
   "language": "python",
   "name": "python3"
  },
  "language_info": {
   "codemirror_mode": {
    "name": "ipython",
    "version": 2
   },
   "file_extension": ".py",
   "mimetype": "text/x-python",
   "name": "python",
   "nbconvert_exporter": "python",
   "pygments_lexer": "ipython2",
   "version": "2.7.6"
  }
 },
 "nbformat": 4,
 "nbformat_minor": 0
}
